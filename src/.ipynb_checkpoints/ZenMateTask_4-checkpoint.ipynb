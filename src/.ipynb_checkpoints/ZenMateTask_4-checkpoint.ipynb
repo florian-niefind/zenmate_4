{
 "metadata": {
  "name": ""
 },
 "nbformat": 3,
 "nbformat_minor": 0,
 "worksheets": [
  {
   "cells": [
    {
     "cell_type": "markdown",
     "metadata": {},
     "source": [
      "I am not an expert in packing algorithms and the quick search on google suggested that this is not trivial. So, instead of trying to build a general problem solver, I took the instruction literally and just wrote a program to 'help me fit the meetings', but did the thinking myself. The solution probably still gives a first impression of my skills, except for the fact that I am a fan of building unittests and this is code that I would probably optimize, if time permitted. "
     ]
    },
    {
     "cell_type": "code",
     "collapsed": false,
     "input": [
      "%run MeetingRoom\n",
      "M1 = MeetingRoom(1)\n",
      "M2 = MeetingRoom(2, datetime.today())\n",
      "M1.show_schedule_by_slots()"
     ],
     "language": "python",
     "metadata": {},
     "outputs": [
      {
       "output_type": "stream",
       "stream": "stdout",
       "text": [
        "Room 1:\n",
        "Time, Available, Event Name\n",
        "09:00:00, True, \n",
        "09:15:00, True, \n",
        "09:30:00, True, \n",
        "09:45:00, True, \n",
        "10:00:00, True, \n",
        "10:15:00, True, \n",
        "10:30:00, True, \n",
        "10:45:00, True, \n",
        "11:00:00, True, \n",
        "11:15:00, True, \n",
        "11:30:00, True, \n",
        "11:45:00, True, \n",
        "12:00:00, False, Lunch\n",
        "12:15:00, False, Lunch\n",
        "12:30:00, False, Lunch\n",
        "12:45:00, False, Lunch\n",
        "13:00:00, True, \n",
        "13:15:00, True, \n",
        "13:30:00, True, \n",
        "13:45:00, True, \n",
        "14:00:00, True, \n",
        "14:15:00, True, \n",
        "14:30:00, True, \n",
        "14:45:00, True, \n",
        "15:00:00, True, \n",
        "15:15:00, True, \n",
        "15:30:00, True, \n",
        "15:45:00, True, \n",
        "16:00:00, True, \n",
        "16:15:00, True, \n",
        "16:30:00, True, \n",
        "16:45:00, True, \n"
       ]
      }
     ],
     "prompt_number": 11
    },
    {
     "cell_type": "code",
     "collapsed": false,
     "input": [
      "%run Read_Input\n",
      "\n",
      "#read all meetings\n",
      "all_meetings = parse_input('Test_Input.txt')\n",
      "\n",
      "#sort all meetings\n",
      "from operator import itemgetter\n",
      "all_meetings_sorted = sorted(all_meetings, key=itemgetter(1),reverse=True) \n",
      "\n",
      "for x in all_meetings_sorted:\n",
      "    print '%s: %i' %(x[0],x[1])"
     ],
     "language": "python",
     "metadata": {},
     "outputs": [
      {
       "output_type": "stream",
       "stream": "stdout",
       "text": [
        "All Hands Meeting: 60\n",
        "Front-end coding interview: 60\n",
        "Developer talk: 60\n",
        "Back-end coding interview A: 60\n",
        "Back-end coding interview B: 60\n",
        "Back-end coding interview C: 60\n",
        "Ruby vs Go presentation: 45\n",
        "New app design presentation: 45\n",
        "Project Bananaphone Kickoff: 45\n",
        "API Architecture planning: 45\n",
        "Android app presentation: 45\n",
        "Spring planning: 45\n",
        "Marketing presentation: 30\n",
        "Product team sync: 30\n",
        "Customer support sync: 30\n",
        "Skype Interview A: 30\n",
        "Skype Interview B: 30\n",
        "New marketing campaign presentation: 30\n"
       ]
      }
     ],
     "prompt_number": 12
    },
    {
     "cell_type": "markdown",
     "metadata": {},
     "source": [
      "A first approach would be to split the sorted list in half so that each meeting room is used to an equal degree."
     ]
    },
    {
     "cell_type": "code",
     "collapsed": false,
     "input": [
      "events_M1 = []\n",
      "events_M2 = []\n",
      "for meeting_ix in xrange(len(all_meetings_sorted)):\n",
      "    if meeting_ix % 2 == 0:\n",
      "        events_M2.append(all_meetings_sorted[meeting_ix])\n",
      "    else:\n",
      "        events_M1.append(all_meetings_sorted[meeting_ix])\n",
      "\n",
      "print '%i of %i time slots will be used in meeting room 1' %(sum([x[1] for x in events_M1])/15,sum(M1.available))\n",
      "print '%i of %i time slots will be used in meeting room 2' %(sum([x[1] for x in events_M2])/15,sum(M2.available))"
     ],
     "language": "python",
     "metadata": {},
     "outputs": [
      {
       "output_type": "stream",
       "stream": "stdout",
       "text": [
        "27 of 28 time slots will be used in meeting room 1\n",
        "27 of 28 time slots will be used in meeting room 2\n",
        "True\n"
       ]
      }
     ],
     "prompt_number": 13
    },
    {
     "cell_type": "markdown",
     "metadata": {},
     "source": [
      "Now we just schedule the long meetings in the morning where everyone is focused and get shorter as the day ends and everyone tires out. "
     ]
    },
    {
     "cell_type": "code",
     "collapsed": false,
     "input": [
      "for event in events_M1:\n",
      "    M1.schedule_meeting(event[0],timedelta(minutes=event[1]))\n",
      "for event in events_M2:\n",
      "    M2.schedule_meeting(event[0],timedelta(minutes=event[1]))\n",
      "\n",
      "M1.show_schedule_by_events()\n",
      "print\n",
      "M2.show_schedule_by_events()\n"
     ],
     "language": "python",
     "metadata": {},
     "outputs": [
      {
       "output_type": "stream",
       "stream": "stdout",
       "text": [
        "Room 1:\n",
        "09:00AM Front-end coding interview 60min\n",
        "10:00AM Back-end coding interview A 60min\n",
        "11:00AM Back-end coding interview C 60min\n",
        "12:00PM Lunch 60min\n",
        "13:00PM New app design presentation 45min\n",
        "13:45PM API Architecture planning 45min\n",
        "14:30PM Spring planning 45min\n",
        "15:15PM Product team sync 30min\n",
        "15:45PM Skype Interview A 30min\n",
        "16:15PM New marketing campaign presentation 30min\n",
        "\n",
        "Room 2:\n",
        "09:00AM All Hands Meeting 60min\n",
        "10:00AM Developer talk 60min\n",
        "11:00AM Back-end coding interview B 60min\n",
        "12:00PM Lunch 60min\n",
        "13:00PM Ruby vs Go presentation 45min\n",
        "13:45PM Project Bananaphone Kickoff 45min\n",
        "14:30PM Android app presentation 45min\n",
        "15:15PM Marketing presentation 30min\n",
        "15:45PM Customer support sync 30min\n",
        "16:15PM Skype Interview B 30min\n"
       ]
      }
     ],
     "prompt_number": 10
    },
    {
     "cell_type": "markdown",
     "metadata": {},
     "source": [
      "Voila!"
     ]
    }
   ],
   "metadata": {}
  }
 ]
}