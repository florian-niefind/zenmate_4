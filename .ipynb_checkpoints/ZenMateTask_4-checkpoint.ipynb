{
 "metadata": {
  "name": ""
 },
 "nbformat": 3,
 "nbformat_minor": 0,
 "worksheets": [
  {
   "cells": [
    {
     "cell_type": "code",
     "collapsed": false,
     "input": [
      "from datetime import datetime, timedelta\n",
      "\n",
      "class MeetingRoom():\n",
      "    \"\"\"\n",
      "    Meeting room object\n",
      "    \"\"\"\n",
      "    \n",
      "    def __init__(self, day):\n",
      "        \"\"\"\n",
      "        Initializes three corresponding lists, one with timestamps in 15 minute intervals,\n",
      "        one with bools for availability and 1 with strings for meeting names\n",
      "        @param: day - datetime object of the day you want to schedule the meeting room for\n",
      "        \"\"\"\n",
      "        \n",
      "        #define possible start time for meetings as 9:00 and end time as 17:00\n",
      "        start_time = day.replace(hour=9,minute=0,second=0,microsecond=0)\n",
      "        end_time = day.replace(hour=17,minute=0,second=0,microsecond=0)\n",
      "    \n",
      "        self.times = [start_time]\n",
      "        self.available = [True]\n",
      "        self.event_name = ['']\n",
      "        time_steps = (end_time - start_time).total_seconds()/(60*15) #/15\n",
      "        for quarter in xrange(int(time_steps)):\n",
      "            self.times.append(self.times[-1]+timedelta(minutes=15))\n",
      "            if (self.times[-1] >= day.replace(hour=12,minute=0,second=0,microsecond=0) and \n",
      "                self.times[-1] < day.replace(hour=13,minute=0,second=0,microsecond=0)):\n",
      "                self.available.append(False)\n",
      "                self.event_name.append('Lunch')\n",
      "            else:\n",
      "                self.available.append(True)\n",
      "                self.event_name.append('')\n",
      "                \n",
      "    def show_schedule(self):\n",
      "        \"\"\"\n",
      "        Formatted printing of the meeting rooms schedule. I did not use __str__ because it cannot\n",
      "        \"\"\"\n",
      "        for time_slot in xrange(len(self.times)):\n",
      "             print '%s, %s, %s'%(self.times[time_slot].time(),self.available[time_slot],self.event_name[time_slot])\n",
      "\n",
      "    def schedule_meeting(self, meeting_name, duration):\n",
      "        \"\"\"\n",
      "        @param: meeting_name - string with the name of the meeting which is filled into the event name list\n",
      "        @param: duration - timedelta object of duration in minutes\n",
      "        \"\"\"\n",
      "        \n",
      "        print meeting_name\n",
      "\n",
      "M1 = MeetingRoom(datetime.today())\n",
      "M1.show_schedule()"
     ],
     "language": "python",
     "metadata": {},
     "outputs": [
      {
       "output_type": "stream",
       "stream": "stdout",
       "text": [
        "09:00:00, True, \n",
        "09:15:00, True, \n",
        "09:30:00, True, \n",
        "09:45:00, True, \n",
        "10:00:00, True, \n",
        "10:15:00, True, \n",
        "10:30:00, True, \n",
        "10:45:00, True, \n",
        "11:00:00, True, \n",
        "11:15:00, True, \n",
        "11:30:00, True, \n",
        "11:45:00, True, \n",
        "12:00:00, False, Lunch\n",
        "12:15:00, False, Lunch\n",
        "12:30:00, False, Lunch\n",
        "12:45:00, False, Lunch\n",
        "13:00:00, True, \n",
        "13:15:00, True, \n",
        "13:30:00, True, \n",
        "13:45:00, True, \n",
        "14:00:00, True, \n",
        "14:15:00, True, \n",
        "14:30:00, True, \n",
        "14:45:00, True, \n",
        "15:00:00, True, \n",
        "15:15:00, True, \n",
        "15:30:00, True, \n",
        "15:45:00, True, \n",
        "16:00:00, True, \n",
        "16:15:00, True, \n",
        "16:30:00, True, \n",
        "16:45:00, True, \n",
        "17:00:00, True, \n"
       ]
      }
     ],
     "prompt_number": 65
    },
    {
     "cell_type": "code",
     "collapsed": false,
     "input": [
      "Meetings = [('All Hands Meeting', 60),('Marketing presentation', 30),('Product team sync', 30),('Ruby vs Go presentation', 45),('New appp design presentation', 45),('Customer support sync', 30),('Front-end coding interview', 60),('Skype Interview A', 30),('Skype Interview B', 30),('Project Bananaphone Kickoff', 45),('Developer talk', 60),('API Architecture planning', 45),('Android app presentation', 45),('Back-end coding interview A', 60),('Back-end coding interview B', 60),('Back-end coding interview C', 60),('Spring planning', 45),('New marketing campaign presentation', 30)]"
     ],
     "language": "python",
     "metadata": {},
     "outputs": [],
     "prompt_number": 66
    },
    {
     "cell_type": "code",
     "collapsed": false,
     "input": [
      "sum([x[1] for x in Meetings])/15"
     ],
     "language": "python",
     "metadata": {},
     "outputs": [
      {
       "metadata": {},
       "output_type": "pyout",
       "prompt_number": 72,
       "text": [
        "54"
       ]
      }
     ],
     "prompt_number": 72
    },
    {
     "cell_type": "code",
     "collapsed": false,
     "input": [
      "def parse_input(testfile):\n",
      "    meetings = []\n",
      "    with open(testfile, 'rb') as infile:\n",
      "        for line in infile:\n",
      "            line = line.strip()\n",
      "            line = line.split(' ')\n",
      "            meeting_name = line[0:-1]\n",
      "            duration = int(line[-1].strip('min'))\n",
      "            meetings.append((meeting_name,duration))\n",
      "    return meetings"
     ],
     "language": "python",
     "metadata": {},
     "outputs": []
    }
   ],
   "metadata": {}
  }
 ]
}